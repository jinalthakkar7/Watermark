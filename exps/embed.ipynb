{
 "cells": [
  {
   "cell_type": "code",
   "execution_count": 6,
   "metadata": {},
   "outputs": [],
   "source": [
    "import cv2\n",
    "import numpy as np\n",
    "import pywt\n",
    "import numpy as np\n",
    "from PIL import Image\n",
    "import pywt\n",
    "from scipy.linalg import svd, diagsvd, inv\n",
    "from cryptography.fernet import Fernet\n",
    "import random"
   ]
  },
  {
   "cell_type": "code",
   "execution_count": 68,
   "metadata": {},
   "outputs": [],
   "source": [
    "class WatermarkProcessor:\n",
    "    def __init__(self, arnold_key, fernet_key):\n",
    "        self.arnold_key = arnold_key\n",
    "        self.fernet_key = fernet_key\n",
    "        self.watermark_dimensions = None  # Initialize with None to store watermark dimensions\n",
    "\n",
    "    def arnold_transform(self, image, iterations=1):\n",
    "        \"\"\"Scramble image using Arnold's Cat Map\"\"\"\n",
    "        n_rows, n_cols = image.shape\n",
    "        transformed_image = np.copy(image)\n",
    "        for _ in range(iterations):\n",
    "            new_image = np.zeros_like(transformed_image)\n",
    "            for x in range(n_rows):\n",
    "                for y in range(n_cols):\n",
    "                    new_x = (self.arnold_key[0] * x + self.arnold_key[1] * y) % n_rows\n",
    "                    new_y = (self.arnold_key[2] * x + self.arnold_key[3] * y) % n_cols\n",
    "                    new_image[new_x, new_y] = transformed_image[x, y]\n",
    "            transformed_image = new_image\n",
    "        return transformed_image\n",
    "\n",
    "    def arnold_inverse_transform(self, image, iterations=1):\n",
    "        \"\"\"Inverse Arnold transform to descramble the image pixels\"\"\"\n",
    "        n_rows, n_cols = image.shape\n",
    "        transformed_image = np.copy(image)\n",
    "        for _ in range(iterations):\n",
    "            new_image = np.zeros_like(transformed_image)\n",
    "            for x in range(n_rows):\n",
    "                for y in range(n_cols):\n",
    "                    new_x = (self.arnold_key[3] * x - self.arnold_key[1] * y) % n_rows\n",
    "                    new_y = (-self.arnold_key[2] * x + self.arnold_key[0] * y) % n_cols\n",
    "                    new_image[new_x, new_y] = transformed_image[x, y]\n",
    "            transformed_image = new_image\n",
    "        return transformed_image\n",
    "\n",
    "    def encrypt_coordinates(self, coordinates):\n",
    "        \"\"\"Encrypt coordinates using Fernet\"\"\"\n",
    "        fernet = Fernet(self.fernet_key)\n",
    "        encrypted = fernet.encrypt(str(coordinates).encode())\n",
    "        return encrypted\n",
    "\n",
    "    def decrypt_coordinates(self, encrypted_coordinates):\n",
    "        \"\"\"Decrypt coordinates using Fernet\"\"\"\n",
    "        fernet = Fernet(self.fernet_key)\n",
    "        decrypted = fernet.decrypt(encrypted_coordinates).decode()\n",
    "        return eval(decrypted)\n",
    "\n",
    "    def apply_dwt_svd(self, block):\n",
    "        \"\"\"Apply DWT and then SVD\"\"\"\n",
    "        coeffs = pywt.dwt2(block, 'haar')\n",
    "        LL, (LH, HL, HH) = coeffs\n",
    "        U, s, Vh = svd(LL)\n",
    "        return U, s, Vh, LH, HL, HH\n",
    "\n",
    "    def reconstruct_image(self, U, s, Vh, LH, HL, HH):\n",
    "        \"\"\"Reconstruct image block from SVD and DWT\"\"\"\n",
    "        LL = np.dot(U, np.dot(np.diag(s), Vh))\n",
    "        coeffs = LL, (LH, HL, HH)\n",
    "        return pywt.idwt2(coeffs, 'haar')\n",
    "\n",
    "    def embed_watermark(self, U, V, bit, scaling_factor):\n",
    "        \"\"\"Embed a single bit into the SVD matrices U and V\"\"\"\n",
    "        mu = (abs(U[1, 0]) + abs(U[2, 0])) / 2\n",
    "        if bit == 1:\n",
    "            U[1, 0], U[2, 0] = mu + scaling_factor / 2, mu - scaling_factor / 2\n",
    "        else:\n",
    "            U[1, 0], U[2, 0] = mu - scaling_factor / 2, mu + scaling_factor / 2\n",
    "        return U, V\n",
    "\n",
    "    def extract_bit(self, U):\n",
    "        \"\"\"Extract a single bit from the SVD U matrix\"\"\"\n",
    "        return 1 if abs(U[1, 0]) > abs(U[2, 0]) else 0\n",
    "\n",
    "    def pad_image_to_blocksize(self, image, block_size):\n",
    "        \"\"\"Pad image to make its dimensions multiples of block size\"\"\"\n",
    "        padded_height = ((image.shape[0] // block_size) + 1) * block_size if image.shape[0] % block_size != 0 else image.shape[0]\n",
    "        padded_width = ((image.shape[1] // block_size) + 1) * block_size if image.shape[1] % block_size != 0 else image.shape[1]\n",
    "        padded_image = np.pad(image, ((0, padded_height - image.shape[0]), (0, padded_width - image.shape[1])), mode='constant', constant_values=0)\n",
    "        return padded_image\n",
    "\n",
    "    def process_image(self, host_image_path, watermark_image_path, scaling_factor, block_size=8):\n",
    "        \"\"\"Process the host image to embed the watermark\"\"\"\n",
    "        host_image = Image.open(host_image_path).convert('L')\n",
    "        watermark_image = Image.open(watermark_image_path).convert('L')\n",
    "        watermark = np.array(watermark_image) > 128  # Binarize watermark\n",
    "        \n",
    "        self.watermark_dimensions = watermark.shape\n",
    "\n",
    "        host_image = np.array(host_image)\n",
    "        host_image = self.pad_image_to_blocksize(host_image, block_size)\n",
    "        scrambled_watermark = self.arnold_transform(watermark, iterations=5)\n",
    "\n",
    "        num_blocks = (host_image.shape[0] // block_size) * (host_image.shape[1] // block_size)\n",
    "        if num_blocks < np.prod(self.watermark_dimensions):\n",
    "            raise ValueError(\"Not enough blocks available in the host image to embed the watermark\")\n",
    "\n",
    "        selected_blocks = random.sample(range(num_blocks), np.prod(self.watermark_dimensions))\n",
    "\n",
    "        encrypted_coords = self.encrypt_coordinates(selected_blocks)\n",
    "        watermarked_image_blocks = host_image.reshape((host_image.shape[0] // block_size, block_size, -1, block_size)).swapaxes(1, 2).reshape(-1, block_size, block_size)\n",
    "\n",
    "        watermark_flat = scrambled_watermark.flatten()\n",
    "        for idx, block in enumerate(watermarked_image_blocks):\n",
    "            if idx in selected_blocks:\n",
    "                bit_index = selected_blocks.index(idx)\n",
    "                bit = watermark_flat[bit_index]\n",
    "                U, s, Vh, LH, HL, HH = self.apply_dwt_svd(block)\n",
    "                U, Vh = self.embed_watermark(U, Vh, bit, scaling_factor)\n",
    "                watermarked_image_blocks[idx] = self.reconstruct_image(U, s, Vh, LH, HL, HH)\n",
    "\n",
    "        watermarked_image = watermarked_image_blocks.reshape((host_image.shape[0] // block_size, host_image.shape[1] // block_size, block_size, block_size)).swapaxes(1, 2).reshape(host_image.shape)\n",
    "        watermarked_image = Image.fromarray(watermarked_image.astype(np.uint8))\n",
    "        watermarked_image.save('watermarked_image.png')\n",
    "        return encrypted_coords\n",
    "\n",
    "    def extract_watermark(self, watermarked_image_path, encrypted_coords, block_size=8):\n",
    "        \"\"\"Extract the watermark from the watermarked image using stored dimensions\"\"\"\n",
    "        if not self.watermark_dimensions:\n",
    "            raise ValueError(\"Watermark dimensions not set. Ensure watermark is processed first.\")\n",
    "\n",
    "        watermarked_image = Image.open(watermarked_image_path).convert('L')\n",
    "        watermarked_image = np.array(watermarked_image)\n",
    "\n",
    "        selected_blocks = self.decrypt_coordinates(encrypted_coords)\n",
    "        watermark_bits = []\n",
    "        watermarked_image_blocks = watermarked_image.reshape((watermarked_image.shape[0] // block_size, block_size, -1, block_size)).swapaxes(1, 2).reshape(-1, block_size, block_size)\n",
    "\n",
    "        for idx in selected_blocks:\n",
    "            block = watermarked_image_blocks[idx]\n",
    "            U, s, Vh, _, _, _ = self.apply_dwt_svd(block)\n",
    "            bit = self.extract_bit(U)\n",
    "            watermark_bits.append(bit)\n",
    "\n",
    "        if len(watermark_bits) != np.prod(self.watermark_dimensions):\n",
    "            raise ValueError(f\"Extracted bits count {len(watermark_bits)} does not match expected watermark size {self.watermark_dimensions}.\")\n",
    "\n",
    "        watermark_image = np.array(watermark_bits).reshape(self.watermark_dimensions)\n",
    "        watermark_image = self.arnold_inverse_transform(watermark_image, iterations=5)\n",
    "        return Image.fromarray(watermark_image.astype(np.uint8) * 255)\n"
   ]
  },
  {
   "cell_type": "code",
   "execution_count": 71,
   "metadata": {},
   "outputs": [
    {
     "ename": "ValueError",
     "evalue": "Not enough blocks available in the host image to embed the watermark",
     "output_type": "error",
     "traceback": [
      "\u001b[0;31m---------------------------------------------------------------------------\u001b[0m",
      "\u001b[0;31mValueError\u001b[0m                                Traceback (most recent call last)",
      "Cell \u001b[0;32mIn[71], line 6\u001b[0m\n\u001b[1;32m      3\u001b[0m fernet_key \u001b[38;5;241m=\u001b[39m Fernet\u001b[38;5;241m.\u001b[39mgenerate_key()  \u001b[38;5;66;03m# Symmetric encryption key for coordinates\u001b[39;00m\n\u001b[1;32m      4\u001b[0m processor \u001b[38;5;241m=\u001b[39m WatermarkProcessor(arnold_key, fernet_key)\n\u001b[0;32m----> 6\u001b[0m encrypted_coords \u001b[38;5;241m=\u001b[39m \u001b[43mprocessor\u001b[49m\u001b[38;5;241;43m.\u001b[39;49m\u001b[43mprocess_image\u001b[49m\u001b[43m(\u001b[49m\u001b[38;5;124;43m'\u001b[39;49m\u001b[38;5;124;43m/Users/kabir/Downloads/Watermark/images/1003.png\u001b[39;49m\u001b[38;5;124;43m'\u001b[39;49m\u001b[43m,\u001b[49m\u001b[43m \u001b[49m\u001b[38;5;124;43m'\u001b[39;49m\u001b[38;5;124;43m/Users/kabir/Downloads/Watermark/images/watermark_64x112_image.png\u001b[39;49m\u001b[38;5;124;43m'\u001b[39;49m\u001b[43m,\u001b[49m\u001b[43mscaling_factor\u001b[49m\u001b[38;5;241;43m=\u001b[39;49m\u001b[38;5;241;43m0.05\u001b[39;49m\u001b[43m,\u001b[49m\u001b[43m \u001b[49m\u001b[43mblock_size\u001b[49m\u001b[38;5;241;43m=\u001b[39;49m\u001b[38;5;241;43m4\u001b[39;49m\u001b[43m)\u001b[49m\n",
      "Cell \u001b[0;32mIn[68], line 94\u001b[0m, in \u001b[0;36mWatermarkProcessor.process_image\u001b[0;34m(self, host_image_path, watermark_image_path, scaling_factor, block_size)\u001b[0m\n\u001b[1;32m     92\u001b[0m num_blocks \u001b[38;5;241m=\u001b[39m (host_image\u001b[38;5;241m.\u001b[39mshape[\u001b[38;5;241m0\u001b[39m] \u001b[38;5;241m/\u001b[39m\u001b[38;5;241m/\u001b[39m block_size) \u001b[38;5;241m*\u001b[39m (host_image\u001b[38;5;241m.\u001b[39mshape[\u001b[38;5;241m1\u001b[39m] \u001b[38;5;241m/\u001b[39m\u001b[38;5;241m/\u001b[39m block_size)\n\u001b[1;32m     93\u001b[0m \u001b[38;5;28;01mif\u001b[39;00m num_blocks \u001b[38;5;241m<\u001b[39m np\u001b[38;5;241m.\u001b[39mprod(\u001b[38;5;28mself\u001b[39m\u001b[38;5;241m.\u001b[39mwatermark_dimensions):\n\u001b[0;32m---> 94\u001b[0m     \u001b[38;5;28;01mraise\u001b[39;00m \u001b[38;5;167;01mValueError\u001b[39;00m(\u001b[38;5;124m\"\u001b[39m\u001b[38;5;124mNot enough blocks available in the host image to embed the watermark\u001b[39m\u001b[38;5;124m\"\u001b[39m)\n\u001b[1;32m     96\u001b[0m selected_blocks \u001b[38;5;241m=\u001b[39m random\u001b[38;5;241m.\u001b[39msample(\u001b[38;5;28mrange\u001b[39m(num_blocks), np\u001b[38;5;241m.\u001b[39mprod(\u001b[38;5;28mself\u001b[39m\u001b[38;5;241m.\u001b[39mwatermark_dimensions))\n\u001b[1;32m     98\u001b[0m encrypted_coords \u001b[38;5;241m=\u001b[39m \u001b[38;5;28mself\u001b[39m\u001b[38;5;241m.\u001b[39mencrypt_coordinates(selected_blocks)\n",
      "\u001b[0;31mValueError\u001b[0m: Not enough blocks available in the host image to embed the watermark"
     ]
    }
   ],
   "source": [
    "# Example usage\n",
    "arnold_key = [1, 1, 1, 2]  # Arnold transformation parameters\n",
    "fernet_key = Fernet.generate_key()  # Symmetric encryption key for coordinates\n",
    "processor = WatermarkProcessor(arnold_key, fernet_key)\n",
    "\n",
    "encrypted_coords = processor.process_image('/Users/kabir/Downloads/Watermark/images/1003.png', '/Users/kabir/Downloads/Watermark/images/watermark_64x112_image.png',scaling_factor=0.05, block_size=4)\n"
   ]
  },
  {
   "cell_type": "code",
   "execution_count": 59,
   "metadata": {},
   "outputs": [
    {
     "data": {
      "text/plain": [
       "b'gAAAAABmMagEu1uXnHXgQ3ogTGIDsBJPKxa1XphvN4yzV6poKiki6ZdRFF5ssvtfEP1TcRXUVNUOyKcbHQ64P1Ixth2ntOQLCPrZkhhC2URKAe2mGBBekBFjqKGxIulDQV7vA_7qsVmiBIE0XFH3deLp01KdF2YOw6aEpZeA3D20qptgUFfO6t8D20dMzX6oG6nWulJav-1nWeOPb7WOiGiFlksWFMzkP45Aknjvdjnancu5Gow37Y15eMR2shUp3Rbx5ssfSp3ps0PqJSIaqI76lG5ZQzmHGReFnUJR_gf3ZvNMSSSdMgH0SJjnXKHPfWnCzyxYimQR8AVWVLBRwbO0ZBp3TZMbYXJkPNg8v8WgAZd81KpvPd5QlYdwgqbOWEE_fyTg-iALLrmk8AGfIKiswdFRXzLS_OBHDQAWR5lS4kW7UCq7p6i6oxiuXCjNKRnEWiyOp32Fs1ABM1-2AGIOBxE6QIJB41fwfc5lgX61Z0oqZaBGwtisdIfHE282uwBm0MFWz26YVMKWdOgcGkHVBx4abIQJYVSghjuIqcyJJzXpTScAKdXPYhwLyWWbqm3pIVVDH78D1UlK90o02K89qCrKMsazCJcxLCI77H9L5T0kY0uF7mj9H-792QUOZAJEAem3eRV6CBhW2ipHlbD_iXTBAy8Dq10ha8KrEi0Jylc87N2PPD4CGjKP7GzPFL8KIlNiavY4rv9SEbzpUUwJcp3f9FP08Zc4dxtf_3yP2uwdlmNasSa1GBfqxnLwmNlECm6ofDVIkCi64QcC-bzycvZYXy11Sg=='"
      ]
     },
     "execution_count": 59,
     "metadata": {},
     "output_type": "execute_result"
    }
   ],
   "source": [
    "encrypted_coords"
   ]
  },
  {
   "cell_type": "code",
   "execution_count": 60,
   "metadata": {},
   "outputs": [
    {
     "ename": "ValueError",
     "evalue": "cannot reshape array of size 130 into shape (112,64)",
     "output_type": "error",
     "traceback": [
      "\u001b[0;31m---------------------------------------------------------------------------\u001b[0m",
      "\u001b[0;31mValueError\u001b[0m                                Traceback (most recent call last)",
      "Cell \u001b[0;32mIn[60], line 1\u001b[0m\n\u001b[0;32m----> 1\u001b[0m extracted_watermark \u001b[38;5;241m=\u001b[39m \u001b[43mprocessor\u001b[49m\u001b[38;5;241;43m.\u001b[39;49m\u001b[43mextract_watermark\u001b[49m\u001b[43m(\u001b[49m\u001b[38;5;124;43m'\u001b[39;49m\u001b[38;5;124;43m/Users/kabir/Downloads/Watermark/exps/watermarked_image.png\u001b[39;49m\u001b[38;5;124;43m'\u001b[39;49m\u001b[43m,\u001b[49m\u001b[43m \u001b[49m\u001b[43mencrypted_coords\u001b[49m\u001b[43m,\u001b[49m\u001b[43mblock_size\u001b[49m\u001b[38;5;241;43m=\u001b[39;49m\u001b[38;5;241;43m16\u001b[39;49m\u001b[43m)\u001b[49m\n\u001b[1;32m      2\u001b[0m extracted_watermark\u001b[38;5;241m.\u001b[39msave(\u001b[38;5;124m'\u001b[39m\u001b[38;5;124m/extracted_watermark.png\u001b[39m\u001b[38;5;124m'\u001b[39m)\n",
      "Cell \u001b[0;32mIn[57], line 128\u001b[0m, in \u001b[0;36mWatermarkProcessor.extract_watermark\u001b[0;34m(self, watermarked_image_path, encrypted_coords, block_size)\u001b[0m\n\u001b[1;32m    125\u001b[0m     bit \u001b[38;5;241m=\u001b[39m \u001b[38;5;28mself\u001b[39m\u001b[38;5;241m.\u001b[39mextract_bit(U)\n\u001b[1;32m    126\u001b[0m     watermark_bits\u001b[38;5;241m.\u001b[39mappend(bit)\n\u001b[0;32m--> 128\u001b[0m watermark_image \u001b[38;5;241m=\u001b[39m \u001b[43mnp\u001b[49m\u001b[38;5;241;43m.\u001b[39;49m\u001b[43marray\u001b[49m\u001b[43m(\u001b[49m\u001b[43mwatermark_bits\u001b[49m\u001b[43m)\u001b[49m\u001b[38;5;241;43m.\u001b[39;49m\u001b[43mreshape\u001b[49m\u001b[43m(\u001b[49m\u001b[38;5;28;43mself\u001b[39;49m\u001b[38;5;241;43m.\u001b[39;49m\u001b[43mwatermark_dimensions\u001b[49m\u001b[43m)\u001b[49m\n\u001b[1;32m    129\u001b[0m watermark_image \u001b[38;5;241m=\u001b[39m \u001b[38;5;28mself\u001b[39m\u001b[38;5;241m.\u001b[39marnold_inverse_transform(watermark_image, iterations\u001b[38;5;241m=\u001b[39m\u001b[38;5;241m5\u001b[39m)\n\u001b[1;32m    130\u001b[0m \u001b[38;5;28;01mreturn\u001b[39;00m Image\u001b[38;5;241m.\u001b[39mfromarray(watermark_image\u001b[38;5;241m.\u001b[39mastype(np\u001b[38;5;241m.\u001b[39muint8) \u001b[38;5;241m*\u001b[39m \u001b[38;5;241m255\u001b[39m)\n",
      "\u001b[0;31mValueError\u001b[0m: cannot reshape array of size 130 into shape (112,64)"
     ]
    }
   ],
   "source": [
    "extracted_watermark = processor.extract_watermark('/Users/kabir/Downloads/Watermark/exps/watermarked_image.png', encrypted_coords,block_size=16)\n",
    "extracted_watermark.save('/extracted_watermark.png')"
   ]
  },
  {
   "cell_type": "code",
   "execution_count": 102,
   "metadata": {},
   "outputs": [],
   "source": [
    "import numpy as np\n",
    "import cv2\n",
    "from cryptography.fernet import Fernet\n",
    "\n",
    "class SVDWatermarking:\n",
    "    def __init__(self, host_image_path, watermark_image_path, scaling_factor=1, arnold_key=None, fernet_key=None):\n",
    "        self.host_image = cv2.imread(host_image_path, cv2.IMREAD_GRAYSCALE)\n",
    "        self.watermark_image = cv2.imread(watermark_image_path, cv2.IMREAD_GRAYSCALE)\n",
    "        self.scaling_factor = scaling_factor\n",
    "        self.arnold_key = arnold_key or 10\n",
    "        self.fernet_key = fernet_key or Fernet.generate_key()\n",
    "        self.watermark_dimensions = self.watermark_image.shape\n",
    "        self.block_size = 8\n",
    "\n",
    "    def arnold_transform(self, image, iterations):\n",
    "        result = np.copy(image)\n",
    "        h, w = image.shape\n",
    "        for _ in range(iterations):\n",
    "            for x in range(w):\n",
    "                for y in range(h):\n",
    "                    new_x = (x + y) % w\n",
    "                    new_y = (x + 2 * y) % h\n",
    "                    result[new_y, new_x] = image[y, x]\n",
    "            image = np.copy(result)\n",
    "        return result\n",
    "\n",
    "    def arnold_inverse_transform(self, image, iterations):\n",
    "        result = np.copy(image)\n",
    "        h, w = image.shape\n",
    "        for _ in range(iterations):\n",
    "            for x in range(w):\n",
    "                for y in range(h):\n",
    "                    new_x = (2 * x - y) % w\n",
    "                    new_y = (x - y) % h\n",
    "                    result[new_y, new_x] = image[y, x]\n",
    "            image = np.copy(result)\n",
    "        return result\n",
    "\n",
    "    def embed_watermark(self):\n",
    "        # Preprocess watermark\n",
    "        watermark = (self.watermark_image > 128).astype(int)\n",
    "        watermark = self.arnold_transform(watermark, self.arnold_key)\n",
    "\n",
    "        # Select embedding blocks using HVS\n",
    "        blocks = [np.hsplit(row, self.host_image.shape[1] // self.block_size) for row in np.vsplit(self.host_image, self.host_image.shape[0] // self.block_size)]\n",
    "        blocks = [block.astype(np.float32) for row in blocks for block in row]\n",
    "        dct_blocks = [cv2.dct(block.reshape(-1, 8)).ravel() for block in blocks]\n",
    "        selected_blocks_indices = np.argsort([np.sum(np.abs(dct_block)) for dct_block in dct_blocks])[:np.prod(self.watermark_dimensions)]\n",
    "        selected_blocks = [blocks[idx] for idx in selected_blocks_indices]\n",
    "\n",
    "        watermarked_image = np.copy(self.host_image)\n",
    "        encrypted_coords = []\n",
    "        for i, block in enumerate(selected_blocks):\n",
    "            U, S, V = np.linalg.svd(block)\n",
    "            watermark_bit = watermark.flat[i]\n",
    "            if watermark_bit == 1:\n",
    "                U[1, 0] = np.sign(U[1, 0]) * (np.abs(U[1, 0]) + self.scaling_factor)\n",
    "                U[2, 0] = np.sign(U[2, 0]) * (np.abs(U[2, 0]) - self.scaling_factor)\n",
    "            else:\n",
    "                U[1, 0] = np.sign(U[1, 0]) * (np.abs(U[1, 0]) - self.scaling_factor)\n",
    "                U[2, 0] = np.sign(U[2, 0]) * (np.abs(U[2, 0]) + self.scaling_factor)\n",
    "            watermarked_block = np.dot(U, np.dot(np.diag(S), V))\n",
    "            row, col = np.unravel_index(selected_blocks_indices[i], (self.host_image.shape[0] // self.block_size, self.host_image.shape[1] // self.block_size))\n",
    "            watermarked_image[row * self.block_size:(row + 1) * self.block_size, col * self.block_size:(col + 1) * self.block_size] = watermarked_block.astype(np.uint8)\n",
    "            encrypted_coords.append(self.encrypt_coordinates(row, col))\n",
    "\n",
    "        return watermarked_image, encrypted_coords\n",
    "    def extract_watermark(self, watermarked_image, encrypted_coords):\n",
    "        fernet = Fernet(self.fernet_key)\n",
    "        watermark_bits = []\n",
    "        for coord in encrypted_coords:\n",
    "            row, col = self.decrypt_coordinates(coord, fernet)\n",
    "            block = watermarked_image[row * self.block_size:(row + 1) * self.block_size, col * self.block_size:(col + 1) * self.block_size]\n",
    "            U, _, _ = np.linalg.svd(block)\n",
    "            bit = self.extract_bit(U)\n",
    "            watermark_bits.append(bit)\n",
    "\n",
    "        watermark_image = np.array(watermark_bits).reshape(self.watermark_dimensions)\n",
    "        watermark_image = self.arnold_inverse_transform(watermark_image, iterations=self.arnold_key)\n",
    "        return watermark_image\n",
    "\n",
    "    def extract_bit(self, U):\n",
    "        if U[1, 0] > U[2, 0]:\n",
    "            return 1\n",
    "        else:\n",
    "            return 0\n",
    "\n",
    "    def encrypt_coordinates(self, row, col):\n",
    "        fernet = Fernet(self.fernet_key)\n",
    "        coords = f\"{row},{col}\".encode()\n",
    "        return fernet.encrypt(coords)\n",
    "\n",
    "    def decrypt_coordinates(self, encrypted_coords, fernet):\n",
    "        decoded_coords = fernet.decrypt(encrypted_coords).decode()\n",
    "        row, col = map(int, decoded_coords.split(\",\"))\n",
    "        return row, col"
   ]
  },
  {
   "cell_type": "code",
   "execution_count": 103,
   "metadata": {},
   "outputs": [],
   "source": [
    "arnold_key = 10 # Key for Arnold transform\n",
    "fernet_key = Fernet.generate_key() # Symmetric encryption key for coordinates\n",
    "\n",
    "watermarker = SVDWatermarking('/Users/kabir/Downloads/Watermark/images/1002.PNG', '/Users/kabir/Downloads/Watermark/images/watermark_64x112_image.png',arnold_key=arnold_key, fernet_key=fernet_key)\n",
    "watermarked_image, encrypted_coords = watermarker.embed_watermark()\n",
    "cv2.imwrite('/watermarked_image_new.png', watermarked_image)\n",
    "\n",
    "extracted_watermark = watermarker.extract_watermark(watermarked_image,encrypted_coords)\n",
    "# cv2.imwrite('/extracted_watermark_new.png', extracted_watermark * 255)"
   ]
  },
  {
   "cell_type": "code",
   "execution_count": 88,
   "metadata": {},
   "outputs": [
    {
     "data": {
      "text/plain": [
       "array([[226, 226, 226, ..., 118, 122, 129],\n",
       "       [226, 226, 226, ..., 143, 138, 148],\n",
       "       [226, 226, 226, ..., 110, 115, 104],\n",
       "       ...,\n",
       "       [210, 210, 210, ..., 184, 182, 180],\n",
       "       [210, 210, 210, ..., 182, 184, 185],\n",
       "       [210, 210, 210, ..., 183, 182, 181]], dtype=uint8)"
      ]
     },
     "execution_count": 88,
     "metadata": {},
     "output_type": "execute_result"
    }
   ],
   "source": [
    "watermarked_image"
   ]
  },
  {
   "cell_type": "code",
   "execution_count": 104,
   "metadata": {},
   "outputs": [],
   "source": [
    "# Ensure that the values are within the 0-255 range for uint8\n",
    "normalized_watermark = np.clip(extracted_watermark * 255, 0, 255)\n",
    "\n",
    "# Convert the data type to uint8\n",
    "watermark_uint8 = normalized_watermark.astype(np.uint8)\n",
    "\n",
    "# Create the image\n",
    "image = Image.fromarray(watermark_uint8)\n",
    "image.show()"
   ]
  },
  {
   "cell_type": "code",
   "execution_count": 95,
   "metadata": {},
   "outputs": [
    {
     "data": {
      "text/plain": [
       "array([[0, 0, 0, ..., 0, 0, 0],\n",
       "       [0, 0, 0, ..., 0, 0, 0],\n",
       "       [0, 0, 0, ..., 0, 0, 0],\n",
       "       ...,\n",
       "       [0, 0, 0, ..., 0, 0, 0],\n",
       "       [0, 0, 0, ..., 0, 0, 0],\n",
       "       [0, 0, 0, ..., 0, 0, 0]])"
      ]
     },
     "execution_count": 95,
     "metadata": {},
     "output_type": "execute_result"
    }
   ],
   "source": [
    "extracted_watermark"
   ]
  },
  {
   "cell_type": "code",
   "execution_count": 98,
   "metadata": {},
   "outputs": [],
   "source": [
    "image.save('extracted_watermark_new.png')"
   ]
  },
  {
   "cell_type": "code",
   "execution_count": null,
   "metadata": {},
   "outputs": [],
   "source": []
  }
 ],
 "metadata": {
  "kernelspec": {
   "display_name": "watermark",
   "language": "python",
   "name": "python3"
  },
  "language_info": {
   "codemirror_mode": {
    "name": "ipython",
    "version": 3
   },
   "file_extension": ".py",
   "mimetype": "text/x-python",
   "name": "python",
   "nbconvert_exporter": "python",
   "pygments_lexer": "ipython3",
   "version": "3.11.9"
  }
 },
 "nbformat": 4,
 "nbformat_minor": 2
}
