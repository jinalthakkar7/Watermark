{
 "cells": [
  {
   "cell_type": "markdown",
   "metadata": {},
   "source": [
    "1. Take the dataset and standardise it in 512x512 blocks\n",
    "2. Convert the the dataset image into their SHA256 hash \n",
    "3. Encrpt the SHA256 using one of the availble algos\n",
    "4. Embed the encrypted text using imwatermark/DCT algo\n",
    "5. Extract the watermark\n",
    "6. decode encryption and see if the sha 256 is same"
   ]
  },
  {
   "cell_type": "code",
   "execution_count": 6,
   "metadata": {},
   "outputs": [
    {
     "data": {
      "text/plain": [
       "True"
      ]
     },
     "execution_count": 6,
     "metadata": {},
     "output_type": "execute_result"
    }
   ],
   "source": [
    "import cv2\n",
    "from imwatermark import WatermarkEncoder\n",
    "\n",
    "bgr = cv2.imread('/Users/kabir/Downloads/Watermark/images/1000.PNG')\n",
    "watermark_image = cv2.imread('/Users/kabir/Downloads/Watermark/images/dice_water.png', cv2.IMREAD_GRAYSCALE)\n",
    "wm = (watermark_image).astype(int)\n",
    "\n",
    "encoder = WatermarkEncoder()\n",
    "encoder.set_watermark('bytes', str(wm).encode('utf-8'))\n",
    "bgr_encoded = encoder.encode(bgr, 'dwtDct')\n",
    "\n",
    "cv2.imwrite('test_wm.png', bgr_encoded)"
   ]
  },
  {
   "cell_type": "code",
   "execution_count": 7,
   "metadata": {},
   "outputs": [
    {
     "name": "stdout",
     "output_type": "stream",
     "text": [
      "5405\n"
     ]
    }
   ],
   "source": [
    "import cv2\n",
    "from imwatermark import WatermarkDecoder\n",
    "\n",
    "bgr = cv2.imread('test_wm.png')\n",
    "\n",
    "decoder = WatermarkDecoder('bytes', 32)\n",
    "watermark = decoder.decode(bgr, 'dwtDct')\n",
    "print(watermark.decode('utf-8'))"
   ]
  },
  {
   "cell_type": "code",
   "execution_count": 9,
   "metadata": {},
   "outputs": [
    {
     "name": "stdout",
     "output_type": "stream",
     "text": [
      "[[255 255 255 ... 255 255 255]\n",
      " [255 255 255 ... 255 255 255]\n",
      " [255 255 255 ... 255 255 255]\n",
      " ...\n",
      " [255 255 255 ... 255 255 255]\n",
      " [255 255 255 ... 255 255 255]\n",
      " [255 255 255 ... 255 255 255]]\n"
     ]
    }
   ],
   "source": [
    "print(str(wm))"
   ]
  },
  {
   "cell_type": "code",
   "execution_count": null,
   "metadata": {},
   "outputs": [],
   "source": []
  }
 ],
 "metadata": {
  "kernelspec": {
   "display_name": "watermark",
   "language": "python",
   "name": "python3"
  },
  "language_info": {
   "codemirror_mode": {
    "name": "ipython",
    "version": 3
   },
   "file_extension": ".py",
   "mimetype": "text/x-python",
   "name": "python",
   "nbconvert_exporter": "python",
   "pygments_lexer": "ipython3",
   "version": "3.11.9"
  }
 },
 "nbformat": 4,
 "nbformat_minor": 2
}
